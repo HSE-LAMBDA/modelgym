{
 "cells": [
  {
   "cell_type": "markdown",
   "metadata": {},
   "source": [
    "# Training example"
   ]
  },
  {
   "cell_type": "code",
   "execution_count": 1,
   "metadata": {
    "scrolled": true
   },
   "outputs": [
    {
     "name": "stderr",
     "output_type": "stream",
     "text": [
      "/home/alexander/venv/my_modelgym/lib/python3.5/site-packages/sklearn/cross_validation.py:41: DeprecationWarning: This module was deprecated in version 0.18 in favor of the model_selection module into which all the refactored classes and functions are moved. Also note that the interface of the new CV iterators are different from that of this module. This module will be removed in 0.20.\n",
      "  \"This module will be removed in 0.20.\", DeprecationWarning)\n"
     ]
    }
   ],
   "source": [
    "import os\n",
    "import pickle\n",
    "import itertools\n",
    "import pandas as pd\n",
    "import numpy as np\n",
    "#from modelgym import model\n",
    "import functools\n",
    "import modelgym\n",
    "from modelgym.util import TASK_CLASSIFICATION\n",
    "from modelgym.trainer import Trainer\n",
    "from modelgym.tracker import ProgressTrackerFile, ProgressTrackerMongo\n",
    "from sklearn.metrics import roc_auc_score\n",
    "from hyperopt.mongoexp import MongoTrials\n",
    "from modelgym.util import split_and_preprocess\n",
    "from sklearn.model_selection import train_test_split\n",
    "from collections import OrderedDict"
   ]
  },
  {
   "cell_type": "code",
   "execution_count": 2,
   "metadata": {},
   "outputs": [
    {
     "name": "stdout",
     "output_type": "stream",
     "text": [
      "Using File as backend for tracking\n",
      "Running experiment cofiguration: test\n"
     ]
    }
   ],
   "source": [
    "########### NROWS, N_ESTIMATORS, N_PROBES, TEST_SIZE, N_CV_SPLITS, OPTIMIZER\n",
    "config_tuple = {\n",
    "    'test': (1000, 100,  2, 0.5, 2, 'random'),\n",
    "    'pror': (None, 1000, 100, 0.5, 2, 'random'), # production with random hyperopt suggestor\n",
    "    'prot': (None, 1000, 100, 0.5, 2, 'tpe'),    # production with tpe hyperopt suggestor\n",
    "    'demi': (10000, 100, 5, 0.5, 2, 'random')\n",
    "}\n",
    "CONFIG = 'test' if 'EXP_CONFIG' not in os.environ else os.environ['EXP_CONFIG']\n",
    "NROWS, N_ESTIMATORS, N_PROBES, TEST_SIZE, N_CV_SPLITS, OPTIMIZER = config_tuple[CONFIG]\n",
    "CANDIDATES = OrderedDict([\n",
    "    ('XGBoost', modelgym.XGBModel), \n",
    "    ('LightGBM', modelgym.LGBModel),\n",
    "    ('RandomForestClassifier',modelgym.RFModel)\n",
    "])\n",
    "RESULTS_DIR = \"results\"\n",
    "LOAD_CACHE = False\n",
    "if 'MONGO_PORT_27017_TCP_ADDR' in os.environ:\n",
    "    mongo_host = os.environ['MONGO_PORT_27017_TCP_ADDR'] if 'MONGO_PORT_27017_TCP_ADDR' in os.environ else 'cern-mc01h'\n",
    "    mongo_port = int(os.environ['MONGO_PORT_27017_TCP_PORT']) if 'MONGO_PORT_27017_TCP_PORT' in os.environ else 27017\n",
    "    mongo_db = os.environ['MONGO_DB'] if 'MONGO_DB' in os.environ else 'trials'\n",
    "    tracker_factory = functools.partial(ProgressTrackerMongo, mongo_host, mongo_port, mongo_db, config_key=CONFIG)\n",
    "    print (\"Using Mongo as backend for tracking\")\n",
    "else:\n",
    "    tracker_factory = functools.partial(ProgressTrackerFile, RESULTS_DIR, config_key=CONFIG)\n",
    "    print (\"Using File as backend for tracking\")\n",
    "\n",
    "print (\"Running experiment cofiguration:\", CONFIG)"
   ]
  },
  {
   "cell_type": "markdown",
   "metadata": {},
   "source": [
    "## Download & read data file"
   ]
  },
  {
   "cell_type": "code",
   "execution_count": 3,
   "metadata": {},
   "outputs": [
    {
     "name": "stdout",
     "output_type": "stream",
     "text": [
      "total 133112\n",
      "-rw-rw-r-- 1 alexander alexander 136304022 окт 12 01:22 XY2d.pickle\n"
     ]
    }
   ],
   "source": [
    "%%bash \n",
    "if [ ! -d data ] ; then \n",
    "    mkdir data \n",
    "    cd data\n",
    "    curl https://cernbox.cern.ch/index.php/s/N1dpSAPgl30szYM/download | gunzip -c > XY2d.pickle\n",
    "    cd ..\n",
    "fi\n",
    "ls -l data"
   ]
  },
  {
   "cell_type": "code",
   "execution_count": 4,
   "metadata": {},
   "outputs": [],
   "source": [
    "def read_data(fname, nrows=None, shuffle=True):\n",
    "    with open(fname,'rb') as fh:\n",
    "        X, y = pickle.load(fh,encoding='bytes')\n",
    "    index = np.arange(X.shape[0])\n",
    "    if nrows is None:\n",
    "        nrows = X.shape[0]\n",
    "    weights = np.ones(nrows) # uh, well...\n",
    "    if shuffle:\n",
    "        index_perm = np.random.permutation(index)\n",
    "    else:\n",
    "        index_perm = index\n",
    "    return X[index_perm[:nrows]], y[index_perm[:nrows]], weights\n",
    "\n",
    "\n",
    "X, y, weights = read_data(\"data/XY2d.pickle\", nrows=NROWS)"
   ]
  },
  {
   "cell_type": "code",
   "execution_count": 5,
   "metadata": {},
   "outputs": [],
   "source": [
    "X_train, X_test, y_train, y_test, w_train, w_test = train_test_split(X, y, weights, test_size=TEST_SIZE)"
   ]
  },
  {
   "cell_type": "code",
   "execution_count": 6,
   "metadata": {},
   "outputs": [],
   "source": [
    "cv_pairs, (dtrain, dtest) = split_and_preprocess(X_train.copy(), y_train, \n",
    "                                                X_test.copy(), y_test, \n",
    "                                                cat_cols=[], n_splits=N_CV_SPLITS)"
   ]
  },
  {
   "cell_type": "markdown",
   "metadata": {},
   "source": [
    "## Run them all"
   ]
  },
  {
   "cell_type": "code",
   "execution_count": 7,
   "metadata": {},
   "outputs": [],
   "source": [
    "def init_keys_dict():\n",
    "    return dict(\n",
    "        [(k, {'default_cv': None, 'tuned_cv': None, 'default_test': None, 'tuned_test': None, 'trials': None}) for k in\n",
    "         CANDIDATES.keys()])\n",
    "\n",
    "\n",
    "trackers = {}\n",
    "custom_metric = {'roc_auc': roc_auc_score}\n",
    "all_metrics = init_keys_dict()\n",
    "trainer = Trainer(opt_evals=N_PROBES, n_estimators=N_ESTIMATORS)"
   ]
  },
  {
   "cell_type": "code",
   "execution_count": 8,
   "metadata": {},
   "outputs": [],
   "source": [
    "def gym_training(trainer, model, all_metrics, trackers, cv_pairs, dtrain, dtest, mode):\n",
    "    name = model.get_name()\n",
    "    metrics = all_metrics[name]\n",
    "    tracker = trackers[name]\n",
    "    cv_key = mode + \"_cv\"\n",
    "    test_key = mode + \"_test\"\n",
    "    if metrics[cv_key] is None:\n",
    "        if mode == \"default\":\n",
    "            metrics[cv_key] = trainer.crossval_fit_eval(model, cv_pairs)\n",
    "        elif mode == \"tuned\":\n",
    "            print('Hyperopt iterations:\\n\\n')\n",
    "            metrics[cv_key] = trainer.crossval_optimize_params(model, cv_pairs, algo_name=OPTIMIZER,\n",
    "                                                               trials=metrics['trials'],\n",
    "                                                               tracker=tracker)\n",
    "        else:\n",
    "            raise ValueError(\"{0} not expected\".format(mode))\n",
    "        tracker._update_state(metrics)\n",
    "    trainer.print_result(metrics[cv_key], '{0} {1} result on CV'.format(mode, name))\n",
    "\n",
    "    if metrics[test_key] is None:\n",
    "        metrics[test_key] = trainer.fit_eval(model, dtrain, dtest,\n",
    "                                             metrics[cv_key]['params'],\n",
    "                                             metrics[cv_key]['best_n_estimators'],\n",
    "                                             custom_metric=custom_metric)\n",
    "        tracker._update_state(metrics)\n",
    "    trainer.print_result(metrics[test_key], '{0} {1} result on TEST'.format(mode, name), extra_keys=['roc_auc'])"
   ]
  },
  {
   "cell_type": "code",
   "execution_count": 9,
   "metadata": {
    "scrolled": false
   },
   "outputs": [
    {
     "name": "stdout",
     "output_type": "stream",
     "text": [
      "~~~~~~~~~~~~~~~~~~~~ XGBoost ~~~~~~~~~~~~~~~~~~~~\n",
      "default XGBoost result on CV:\n",
      "\n",
      "loss = 0.42284588\n",
      "best_n_estimators = 2\n",
      "params = {'gamma': 0, 'reg_alpha': 0, 'min_child_weight': 1, 'max_delta_step': 0, 'base_score': 0.5, 'silent': 1, 'reg_lambda': 1, 'seed': 0, 'nthread': -1, 'learning_rate': 0.1, 'scale_pos_weight': 1, 'objective': 'binary:logistic', 'colsample_bylevel': 1, 'eval_metric': 'logloss', 'missing': None, 'subsample': 1, 'n_estimators': 100, 'colsample_bytree': 1, 'max_depth': 3}\n",
      "default XGBoost result on TEST:\n",
      "\n",
      "loss = 0.614406\n",
      "n_estimators = 2\n",
      "params = {'gamma': 0, 'reg_alpha': 0, 'min_child_weight': 1, 'max_delta_step': 0, 'base_score': 0.5, 'silent': 1, 'reg_lambda': 1, 'seed': 0, 'nthread': -1, 'learning_rate': 0.1, 'scale_pos_weight': 1, 'objective': 'binary:logistic', 'colsample_bylevel': 1, 'eval_metric': 'logloss', 'missing': None, 'subsample': 1, 'n_estimators': 100, 'colsample_bytree': 1, 'max_depth': 3}\n",
      "roc_auc = 0.663240\n",
      "Hyperopt iterations:\n",
      "\n",
      "\n",
      "[1/2]\teval_time=0.20 sec\tcurrent_logloss=0.654924\tmin_logloss=0.654924\n",
      "[2/2]\teval_time=0.10 sec\tcurrent_logloss=0.444354\tmin_logloss=0.444354\n",
      "saved state to results/tracker_test_XGBoost.pickle\n",
      "tuned XGBoost result on CV:\n",
      "\n",
      "loss = 0.4443543\n",
      "best_n_estimators = 2\n",
      "params = {'gamma': 0.0008064719242845735, 'lambdax': 1.5481980017877143e-06, 'min_child_weight': 4.1073662953607967e-07, 'objective': 'binary:logistic', 'eta': 0.45954327406619383, 'colsample_bylevel': 0.6278474089136892, 'alpha': 0.000624361142368818, 'eval_metric': 'logloss', 'subsample': 0.8513224962221795, 'silent': 1, 'colsample_bytree': 0.5292435929542255, 'max_depth': 5}\n",
      "tuned XGBoost result on TEST:\n",
      "\n",
      "loss = 0.44609\n",
      "n_estimators = 2\n",
      "params = {'gamma': 0.0008064719242845735, 'lambdax': 1.5481980017877143e-06, 'min_child_weight': 4.1073662953607967e-07, 'objective': 'binary:logistic', 'eta': 0.45954327406619383, 'colsample_bylevel': 0.6278474089136892, 'alpha': 0.000624361142368818, 'eval_metric': 'logloss', 'subsample': 0.8513224962221795, 'silent': 1, 'colsample_bytree': 0.5292435929542255, 'max_depth': 5}\n",
      "roc_auc = 0.751615\n",
      "saved state to results/tracker_test_XGBoost.pickle\n",
      "~~~~~~~~~~~~~~~~~~~~ LightGBM ~~~~~~~~~~~~~~~~~~~~\n",
      "default LightGBM result on CV:\n",
      "\n",
      "loss = 0.46476010839\n",
      "best_n_estimators = 2\n",
      "params = {'drop_rate': 0.1, 'metric': 'binary_logloss', 'skip_drop': 0.5, 'num_threads': 4, 'num_leaves': 31, 'uniform_drop': False, 'lambda_l1': 0, 'reg_lambda': 0, 'seed': 0, 'boosting_type': 'gbdt', 'is_unbalance': False, 'objective': 'binary', 'min_child_samples': 10, 'max_drop': 50, 'nthread': 4, 'subsample': 1, 'verbose': -1, 'xgboost_dart_mode': False, 'subsample_freq': 1, 'lambda_l2': 0, 'max_depth': -1, 'reg_alpha': 0, 'min_child_weight': 5, 'max_bin': 255, 'bagging_freq': 1, 'sigmoid': 1.0, 'min_split_gain': 0, 'learning_rate': 0.1, 'min_sum_hessian_in_leaf': 0.001, 'scale_pos_weight': 1, 'min_data_in_leaf': 20, 'subsample_for_bin': 50000, 'colsample_bytree': 1}\n",
      "default LightGBM result on TEST:\n",
      "\n",
      "loss = 0.605745205496\n",
      "n_estimators = 2\n",
      "params = {'drop_rate': 0.1, 'metric': 'binary_logloss', 'skip_drop': 0.5, 'num_threads': 4, 'num_leaves': 31, 'uniform_drop': False, 'lambda_l1': 0, 'reg_lambda': 0, 'seed': 0, 'boosting_type': 'gbdt', 'is_unbalance': False, 'objective': 'binary', 'min_child_samples': 10, 'max_drop': 50, 'nthread': 4, 'subsample': 1, 'verbose': -1, 'xgboost_dart_mode': False, 'subsample_freq': 1, 'lambda_l2': 0, 'max_depth': -1, 'reg_alpha': 0, 'min_child_weight': 5, 'max_bin': 255, 'bagging_freq': 1, 'sigmoid': 1.0, 'min_split_gain': 0, 'learning_rate': 0.1, 'min_sum_hessian_in_leaf': 0.001, 'scale_pos_weight': 1, 'min_data_in_leaf': 20, 'subsample_for_bin': 50000, 'colsample_bytree': 1}\n",
      "roc_auc = 0.777722\n",
      "Hyperopt iterations:\n",
      "\n",
      "\n",
      "[1/2]\teval_time=0.08 sec\tcurrent_logloss=0.693147\tmin_logloss=0.693147\n",
      "[2/2]\teval_time=0.05 sec\tcurrent_logloss=0.646200\tmin_logloss=0.646200\n",
      "saved state to results/tracker_test_LightGBM.pickle\n",
      "tuned LightGBM result on CV:\n",
      "\n",
      "loss = 0.6461996172860381\n",
      "best_n_estimators = 2\n",
      "params = {'objective': 'binary', 'metric': 'binary_logloss', 'min_data_in_leaf': 10, 'max_bin': 255, 'min_sum_hessian_in_leaf': 4.1073662953607967e-07, 'bagging_freq': 1, 'num_leaves': 137, 'feature_fraction': 0.5292435929542255, 'verbose': -1, 'lambda_l1': 1.000657505552681, 'lambda_l2': 0.0008064719242845735, 'bagging_fraction': 0.6278474089136892, 'learning_rate': 0.0025275717184566064}\n",
      "tuned LightGBM result on TEST:\n",
      "\n",
      "loss = 0.69068277841\n",
      "n_estimators = 2\n",
      "params = {'objective': 'binary', 'metric': 'binary_logloss', 'min_data_in_leaf': 10, 'max_bin': 255, 'min_sum_hessian_in_leaf': 4.1073662953607967e-07, 'bagging_freq': 1, 'num_leaves': 137, 'feature_fraction': 0.5292435929542255, 'verbose': -1, 'lambda_l1': 1.000657505552681, 'lambda_l2': 0.0008064719242845735, 'bagging_fraction': 0.6278474089136892, 'learning_rate': 0.0025275717184566064}\n",
      "roc_auc = 0.754185\n",
      "saved state to results/tracker_test_LightGBM.pickle\n",
      "~~~~~~~~~~~~~~~~~~~~ RandomForestClassifier ~~~~~~~~~~~~~~~~~~~~\n",
      "default RandomForestClassifier result on CV:\n",
      "\n",
      "loss = 1.0\n",
      "best_n_estimators = 1\n",
      "params = {'min_samples_split': 2, 'min_samples_leaf': 1, 'min_impurity_split': 1e-07, 'verbose': 0, 'n_estimators': 10, 'max_features': 4, 'criterion': 'gini', 'min_weight_fraction_leaf': 0.0, 'max_depth': 1}\n",
      "default RandomForestClassifier result on TEST:\n",
      "\n",
      "loss = 1\n",
      "n_estimators = 1\n",
      "params = {'min_samples_split': 2, 'min_samples_leaf': 1, 'min_impurity_split': 1e-07, 'verbose': 0, 'n_estimators': 10, 'max_features': 4, 'min_weight_fraction_leaf': 0.0, 'criterion': 'gini', 'max_depth': 1}\n",
      "roc_auc = 0.500983\n",
      "Hyperopt iterations:\n",
      "\n",
      "\n",
      "[1/2]\teval_time=0.32 sec\tcurrent_logloss=0.971888\tmin_logloss=0.971888\n",
      "[2/2]\teval_time=0.37 sec\tcurrent_logloss=0.971888\tmin_logloss=0.971888\n",
      "saved state to results/tracker_test_RandomForestClassifier.pickle\n",
      "tuned RandomForestClassifier result on CV:\n",
      "\n",
      "loss = 0.9718875502008032\n",
      "best_n_estimators = 2\n",
      "params = {'verbose': 0, 'n_estimators': 5, 'max_features': 3, 'criterion': 'entropy', 'min_samples_split': 19.0, 'max_depth': 13, 'min_samples_leaf': 19.0}\n",
      "tuned RandomForestClassifier result on TEST:\n",
      "\n",
      "loss = 1\n",
      "n_estimators = 2\n",
      "params = {'verbose': 0, 'n_estimators': 5, 'max_features': 3, 'criterion': 'entropy', 'min_samples_split': 19.0, 'max_depth': 13, 'min_samples_leaf': 19.0}\n",
      "roc_auc = 0.590046\n",
      "saved state to results/tracker_test_RandomForestClassifier.pickle\n"
     ]
    }
   ],
   "source": [
    "for model_class in CANDIDATES.values():\n",
    "    model = model_class(TASK_CLASSIFICATION)\n",
    "    name = model.get_name()\n",
    "    print(\"~\" * 20, name, \"~\" * 20)\n",
    "    trackers[name] = tracker_factory(model_name=name)\n",
    "    if LOAD_CACHE:\n",
    "        all_metrics[name] = trackers[name].load_state()\n",
    "\n",
    "    gym_training(trainer, model, all_metrics, trackers, cv_pairs, dtrain, dtest, 'default')\n",
    "    gym_training(trainer, model, all_metrics, trackers, cv_pairs, dtrain, dtest, 'tuned')\n",
    "\n",
    "    trackers[name].save_state()"
   ]
  },
  {
   "cell_type": "markdown",
   "metadata": {},
   "source": [
    "## Compare"
   ]
  },
  {
   "cell_type": "code",
   "execution_count": 10,
   "metadata": {},
   "outputs": [],
   "source": [
    "metric, mes_min = 'roc_auc', False\n",
    "full_results = {}\n",
    "for i in CANDIDATES.keys():\n",
    "    if i in trackers:\n",
    "        tracker = trackers[i]\n",
    "    else:\n",
    "        tracker = tracker_factory(model_name=i)\n",
    "        tracker.load_state()\n",
    "    full_results.update({i:{'tuned': tracker.state['tuned_test'], 'default': tracker.state['default_test']}})\n",
    "#print(full_results)"
   ]
  },
  {
   "cell_type": "code",
   "execution_count": 11,
   "metadata": {},
   "outputs": [],
   "source": [
    "def plot_metric_results(full_results, index, metric, is_min_better=True):\n",
    "    test_results_list = []\n",
    "    for i in index:\n",
    "        test_results_list.append([full_results[i]['default'][metric], full_results[i]['tuned'][metric]])\n",
    "        \n",
    "    test_results = np.array(test_results_list)\n",
    "    if is_min_better:\n",
    "        baseline = test_results.min()\n",
    "    else:\n",
    "        baseline = test_results.max()\n",
    "    diff = 100 * test_results / baseline - 100\n",
    "    test_results_formatted = [['{:.6f} ({:+.2f}%)'.format(test_results[i, j], diff[i, j]) for j in range(2)] for i in range(len(index))]\n",
    "\n",
    "    print (pd.DataFrame(test_results_formatted, columns=['default', 'tuned'], index=index))\n",
    "    \n",
    "    full_names = [\" \".join(i) for i in itertools.product(index, ['default', 'tuned'])]\n",
    "\n",
    "    named_results = zip(full_names, test_results.flatten())\n",
    "\n",
    "    sorted_results = sorted(named_results, key=lambda x: x[1], reverse=not is_min_better)\n",
    "    xticks = ['%s\\n%.5f' % (name, loss) for name, loss in sorted_results]\n",
    "\n",
    "    pyplot.figure(figsize=(20, 7))\n",
    "    pyplot.scatter(range(len(full_names)), list(zip(*sorted_results))[1], s=150)\n",
    "    pyplot.xticks(range(len(full_names)), xticks, fontsize=15)\n",
    "    pyplot.yticks(fontsize=12)\n",
    "    pyplot.title('Comparison', fontsize=20)\n",
    "    pyplot.ylabel(metric, fontsize=16)"
   ]
  },
  {
   "cell_type": "code",
   "execution_count": 12,
   "metadata": {},
   "outputs": [
    {
     "name": "stdout",
     "output_type": "stream",
     "text": [
      "Populating the interactive namespace from numpy and matplotlib\n",
      "                                   default               tuned\n",
      "XGBoost                 0.663240 (-14.72%)   0.751615 (-3.36%)\n",
      "LightGBM                 0.777722 (+0.00%)   0.754185 (-3.03%)\n",
      "RandomForestClassifier  0.500983 (-35.58%)  0.590046 (-24.13%)\n"
     ]
    },
    {
     "data": {
      "image/png": "[encoded data removed]",
      "text/plain": [
       "<matplotlib.figure.Figure at 0x7fe6b9f2e438>"
      ]
     },
     "metadata": {},
     "output_type": "display_data"
    }
   ],
   "source": [
    "%pylab inline --no-import-all\n",
    "metric, is_min_better = 'roc_auc', False\n",
    "plot_metric_results(full_results, CANDIDATES.keys(), metric, is_min_better=is_min_better)"
   ]
  },
  {
   "cell_type": "markdown",
   "metadata": {},
   "source": [
    "# Compare models with stat test"
   ]
  },
  {
   "cell_type": "markdown",
   "metadata": {},
   "source": [
    "## Compare that out tuned RF model is statistically better than default"
   ]
  },
  {
   "cell_type": "code",
   "execution_count": 13,
   "metadata": {
    "scrolled": false
   },
   "outputs": [
    {
     "name": "stdout",
     "output_type": "stream",
     "text": [
      "Two models are different: False, p-value [[ 0.07928851]]\n"
     ]
    }
   ],
   "source": [
    "from sklearn.ensemble import RandomForestClassifier\n",
    "default_rf_model = RandomForestClassifier()\n",
    "default_rf_model.fit(dtrain.X, dtrain.y)\n",
    "\n",
    "tuned_rf_model = full_results['RandomForestClassifier']['tuned']['bst']\n",
    "\n",
    "print('Two models are different: {}, p-value {}'.format(\n",
    "    *modelgym.util.compare_models_different(tuned_rf_model, default_rf_model, dtest)\n",
    "))"
   ]
  },
  {
   "cell_type": "markdown",
   "metadata": {},
   "source": [
    "## Compare default LightGBM and default RF"
   ]
  },
  {
   "cell_type": "code",
   "execution_count": 14,
   "metadata": {},
   "outputs": [
    {
     "name": "stdout",
     "output_type": "stream",
     "text": [
      "Two models are different: True, p-value [[ 0.00351561]]\n"
     ]
    }
   ],
   "source": [
    "import lightgbm\n",
    "default_lightGBM_model = lightgbm.LGBMClassifier()\n",
    "default_lightGBM_model.fit(dtrain.X, dtrain.y)\n",
    "\n",
    "print('Two models are different: {}, p-value {}'.format(\n",
    "    *modelgym.util.compare_models_different(default_lightGBM_model, default_rf_model, dtest)\n",
    "))"
   ]
  },
  {
   "cell_type": "code",
   "execution_count": null,
   "metadata": {},
   "outputs": [],
   "source": []
  }
 ],
 "metadata": {
  "kernelspec": {
   "display_name": "Python 3",
   "language": "python",
   "name": "python3"
  },
  "language_info": {
   "codemirror_mode": {
    "name": "ipython",
    "version": 3
   },
   "file_extension": ".py",
   "mimetype": "text/x-python",
   "name": "python",
   "nbconvert_exporter": "python",
   "pygments_lexer": "ipython3",
   "version": "3.6.3"
  }
 },
 "nbformat": 4,
 "nbformat_minor": 1
}

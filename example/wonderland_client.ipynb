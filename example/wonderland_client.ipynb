{
 "cells": [
  {
   "cell_type": "code",
   "execution_count": 1,
   "metadata": {},
   "outputs": [
    {
     "name": "stderr",
     "output_type": "stream",
     "text": [
      "/home/igor/anaconda3/envs/yadro/lib/python3.6/importlib/_bootstrap.py:219: RuntimeWarning: compiletime version 3.4 of module '_catboost' does not match runtime version 3.6\n",
      "  return f(*args, **kwds)\n"
     ]
    }
   ],
   "source": [
    "from modelgym.models import CtBClassifier\n",
    "from sklearn.datasets import make_classification\n",
    "from modelgym.utils import XYCDataset\n",
    "from modelgym.trainers import TpeTrainer\n",
    "from modelgym.metrics import Accuracy, RocAuc\n",
    "from modelgym.report import Report\n",
    "from modelgym.utils import ModelSpace, process_model_spaces\n",
    "from hyperopt.pyll.base import scope\n",
    "from hyperopt import hp\n",
    "from time import sleep"
   ]
  },
  {
   "cell_type": "code",
   "execution_count": null,
   "metadata": {},
   "outputs": [],
   "source": [
    "##Prepare Data\n",
    "X, y = make_classification(n_samples=500, n_features=20, n_informative=10, n_classes=2)\n",
    "dataset = XYCDataset(X, y)"
   ]
  },
  {
   "cell_type": "code",
   "execution_count": 1,
   "metadata": {},
   "outputs": [
    {
     "ename": "SyntaxError",
     "evalue": "invalid syntax (client.py, line 23)",
     "output_type": "error",
     "traceback": [
      "Traceback \u001b[0;36m(most recent call last)\u001b[0m:\n",
      "  File \u001b[1;32m\"/home/igor/anaconda3/envs/yadro/lib/python3.6/site-packages/IPython/core/interactiveshell.py\"\u001b[0m, line \u001b[1;32m2910\u001b[0m, in \u001b[1;35mrun_code\u001b[0m\n    exec(code_obj, self.user_global_ns, self.user_ns)\n",
      "  File \u001b[1;32m\"<ipython-input-1-a6f515d690f5>\"\u001b[0m, line \u001b[1;32m1\u001b[0m, in \u001b[1;35m<module>\u001b[0m\n    from modelgym.client import Client\n",
      "\u001b[0;36m  File \u001b[0;32m\"/home/igor/modelgym/modelgym/client/__init__.py\"\u001b[0;36m, line \u001b[0;32m1\u001b[0;36m, in \u001b[0;35m<module>\u001b[0;36m\u001b[0m\n\u001b[0;31m    from modelgym.client.client import Client\u001b[0m\n",
      "\u001b[0;36m  File \u001b[0;32m\"/home/igor/modelgym/modelgym/client/client.py\"\u001b[0;36m, line \u001b[0;32m23\u001b[0m\n\u001b[0;31m    project =\u001b[0m\n\u001b[0m             ^\u001b[0m\n\u001b[0;31mSyntaxError\u001b[0m\u001b[0;31m:\u001b[0m invalid syntax\n"
     ]
    }
   ],
   "source": [
    "from modelgym.client import Client\n",
    "import os\n",
    "\n",
    "ip = \"localhost:50051\"\n",
    "homeFolder = os.getenv(\"HOME\")+\"/repo-storage/test\"\n",
    "client = Client(ip, homeFolder=homeFolder)\n",
    "client.clearExperiment()"
   ]
  },
  {
   "cell_type": "code",
   "execution_count": null,
   "metadata": {},
   "outputs": [],
   "source": [
    "link = client.sendData(dataset)"
   ]
  },
  {
   "cell_type": "code",
   "execution_count": null,
   "metadata": {},
   "outputs": [],
   "source": [
    "##Select models and spaces\n",
    "models = ModelSpace(CtBClassifier,\n",
    "                    space={'learning_rate': hp.loguniform('learning_rate', -5, -1)},\n",
    "                    space_update=True)\n",
    "\n",
    "trainer = TpeTrainer(models)\n",
    "\n",
    "##Non-cluster optimization\n",
    "trainer.crossval_optimize_params(Accuracy(), dataset, metrics=[Accuracy()], client=client)"
   ]
  },
  {
   "cell_type": "markdown",
   "metadata": {},
   "source": [
    "Wonderland optimization\n"
   ]
  },
  {
   "cell_type": "code",
   "execution_count": null,
   "metadata": {},
   "outputs": [],
   "source": [
    "client = Client(ip)\n",
    "data_path = Client.SendData(dataset)\n",
    "## Instead data only path to the data on a remote node.\n",
    "##  and parameter client\n",
    "trainer.crossval_optimize_params(Accuracy(), data_path, metrics=[Accuracy()], client=client)"
   ]
  },
  {
   "cell_type": "code",
   "execution_count": null,
   "metadata": {},
   "outputs": [],
   "source": [
    "reporter = Report(trainer.get_best_results(), dataset, [Accuracy()])\n",
    "reporter.print_all_metric_results()"
   ]
  }
 ],
 "metadata": {
  "kernelspec": {
   "display_name": "Python 3",
   "language": "python",
   "name": "python3"
  }
 },
 "nbformat": 4,
 "nbformat_minor": 2
}

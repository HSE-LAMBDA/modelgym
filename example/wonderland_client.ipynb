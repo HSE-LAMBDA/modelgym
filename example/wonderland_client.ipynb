{
 "cells": [
  {
   "cell_type": "code",
   "execution_count": 12,
   "metadata": {},
   "outputs": [],
   "source": [
    "from modelgym.models import CtBClassifier\n",
    "from modelgym.utils import XYCDataset\n",
    "from modelgym.trainers import TpeTrainer\n",
    "from modelgym.metrics import Accuracy\n",
    "from modelgym.report import Report\n",
    "from modelgym.utils import ModelSpace\n",
    "from hyperopt import hp\n",
    "import numpy as np\n",
    "from sklearn.datasets import make_classification\n",
    "from pathlib import Path"
   ]
  },
  {
   "cell_type": "markdown",
   "metadata": {},
   "source": [
    "Wonderland optimization\n"
   ]
  },
  {
   "cell_type": "code",
   "execution_count": 13,
   "metadata": {},
   "outputs": [],
   "source": [
    "from wonderclient import ModelGymClient\n",
    "\n",
    "\n",
    "ip = \"localhost:50051\"\n",
    "workingFolder = Path.home() / \"repo-storage/test\"\n",
    "client = ModelGymClient('localhost:50051', workingFolder, \"user\")"
   ]
  },
  {
   "cell_type": "code",
   "execution_count": 14,
   "metadata": {},
   "outputs": [],
   "source": [
    "n_features=20\n",
    "X, y = make_classification(n_samples=500, n_features=n_features, n_informative=10, n_classes=2)\n",
    "dataset = XYCDataset(X, y)\n",
    "y = np.array([y])\n",
    "data = np.concatenate((X, y.T), axis=1)\n",
    "path_to_data = workingFolder / \"DATA/tmp_data12345678.csv\"\n",
    "np.savetxt(path_to_data, data, \n",
    "           fmt='%.2f', \n",
    "           header=','.join([str(x) for x in range(n_features)]+['y']),\n",
    "           delimiter=',')"
   ]
  },
  {
   "cell_type": "code",
   "execution_count": 15,
   "metadata": {},
   "outputs": [],
   "source": [
    "models = ModelSpace(CtBClassifier,\n",
    "                    space={'learning_rate': hp.loguniform('learning_rate', -5, -1)},\n",
    "                    space_update=True)\n",
    "trainer = TpeTrainer(models)"
   ]
  },
  {
   "cell_type": "code",
   "execution_count": 16,
   "metadata": {},
   "outputs": [
    {
     "name": "stdout",
     "output_type": "stream",
     "text": [
      "CPU times: user 400 ms, sys: 28 ms, total: 428 ms\n",
      "Wall time: 7min 30s\n"
     ]
    }
   ],
   "source": [
    "%%time\n",
    "##Cluster optimization\n",
    "trainer.crossval_optimize_params(Accuracy(), path_to_data, metrics=[Accuracy()], client=client, opt_evals=3)"
   ]
  },
  {
   "cell_type": "code",
   "execution_count": 17,
   "metadata": {},
   "outputs": [
    {
     "name": "stdout",
     "output_type": "stream",
     "text": [
      "\n",
      "~~~~~~~~~~~~~~~~~~~~~~~~~~~~~~~~~~~~~~~~~~~~~~    accuracy    ~~~~~~~~~~~~~~~~~~~~~~~~~~~~~~~~~~~~~~~~~~~~~~~\n",
      "\n",
      "                           tuned\n",
      "CtBClassifier  0.914039 (+0.00%)\n"
     ]
    }
   ],
   "source": [
    "reporter = Report(trainer.get_best_results(), dataset, [Accuracy()])\n",
    "reporter.print_all_metric_results()"
   ]
  },
  {
   "cell_type": "code",
   "execution_count": 21,
   "metadata": {},
   "outputs": [
    {
     "name": "stdout",
     "output_type": "stream",
     "text": [
      "CPU times: user 5min 52s, sys: 3min 32s, total: 9min 24s\n",
      "Wall time: 4min 18s\n"
     ]
    }
   ],
   "source": [
    "%%time\n",
    "##Non-cluster optimization\n",
    "models = ModelSpace(CtBClassifier,\n",
    "                    space={'learning_rate': hp.loguniform('learning_rate', -5, -1)},\n",
    "                    space_update=True)\n",
    "trainer_2 = TpeTrainer(models)\n",
    "trainer_2.crossval_optimize_params(Accuracy(), dataset, metrics=[Accuracy()], opt_evals=3)"
   ]
  },
  {
   "cell_type": "code",
   "execution_count": 22,
   "metadata": {},
   "outputs": [
    {
     "name": "stdout",
     "output_type": "stream",
     "text": [
      "\n",
      "~~~~~~~~~~~~~~~~~~~~~~~~~~~~~~~~~~~~~~~~~~~~~~    accuracy    ~~~~~~~~~~~~~~~~~~~~~~~~~~~~~~~~~~~~~~~~~~~~~~~\n",
      "\n",
      "                           tuned\n",
      "CtBClassifier  0.914039 (+0.00%)\n"
     ]
    }
   ],
   "source": [
    "reporter_2 = Report(trainer.get_best_results(), dataset, [Accuracy()])\n",
    "reporter_2.print_all_metric_results()"
   ]
  }
 ],
 "metadata": {
  "kernelspec": {
   "display_name": "Python 3",
   "language": "python",
   "name": "python3"
  },
  "language_info": {
   "codemirror_mode": {
    "name": "ipython",
    "version": 3
   },
   "file_extension": ".py",
   "mimetype": "text/x-python",
   "name": "python",
   "nbconvert_exporter": "python",
   "pygments_lexer": "ipython3",
   "version": "3.6.4"
  }
 },
 "nbformat": 4,
 "nbformat_minor": 2
}

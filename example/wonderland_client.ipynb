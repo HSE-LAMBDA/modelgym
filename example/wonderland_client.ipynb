{
 "cells": [
  {
   "cell_type": "code",
   "execution_count": 1,
   "metadata": {},
   "outputs": [
    {
     "name": "stderr",
     "output_type": "stream",
     "text": [
      "/home/igor/anaconda3/envs/yadro/lib/python3.6/importlib/_bootstrap.py:219: RuntimeWarning: compiletime version 3.4 of module '_catboost' does not match runtime version 3.6\n",
      "  return f(*args, **kwds)\n"
     ]
    }
   ],
   "source": [
    "from modelgym.models import CtBClassifier\n",
    "from sklearn.datasets import make_classification\n",
    "from modelgym.utils import XYCDataset\n",
    "from modelgym.trainers import TpeTrainer\n",
    "from modelgym.metrics import Accuracy, RocAuc\n",
    "from modelgym.report import Report\n",
    "from modelgym.utils import ModelSpace, process_model_spaces\n",
    "from hyperopt.pyll.base import scope\n",
    "from hyperopt import hp\n",
    "from time import sleep"
   ]
  },
  {
   "cell_type": "markdown",
   "metadata": {},
   "source": [
    "Wonderland optimization\n"
   ]
  },
  {
   "cell_type": "code",
   "execution_count": 2,
   "metadata": {},
   "outputs": [],
   "source": [
    "from modelgym.client import Client\n",
    "import os\n",
    "\n",
    "ip = \"localhost:50051\"\n",
    "workingFolder = os.getenv(\"HOME\")+\"/repo-storage/test\"\n",
    "client = Client('localhost:50051', workingFolder)"
   ]
  },
  {
   "cell_type": "code",
   "execution_count": null,
   "metadata": {},
   "outputs": [],
   "source": [
    "##Prepare Data\n",
    "X, y = make_classification(n_samples=500, n_features=20, n_informative=10, n_classes=2)\n",
    "dataset = XYCDataset(X, y)\n",
    "\n",
    "\n"
   ]
  },
  {
   "cell_type": "code",
   "execution_count": null,
   "metadata": {},
   "outputs": [],
   "source": [
    "#Load data in Azure File Storage\n",
    "dataPath = client.sendData(dataset)"
   ]
  },
  {
   "cell_type": "code",
   "execution_count": null,
   "metadata": {},
   "outputs": [],
   "source": [
    "models = ModelSpace(CtBClassifier,\n",
    "                    space={'learning_rate': hp.loguniform('learning_rate', -5, -1)},\n",
    "                    space_update=True)\n",
    "trainer = TpeTrainer(models)\n",
    "\n",
    "##Cluster optimization\n",
    "trainer.crossval_optimize_params(Accuracy(), dataPath, metrics=[Accuracy()], client=client)"
   ]
  },
  {
   "cell_type": "code",
   "execution_count": null,
   "metadata": {},
   "outputs": [],
   "source": [
    "##Non-cluster optimization\n",
    "trainer.crossval_optimize_params(Accuracy(), dataset, metrics=[Accuracy()])"
   ]
  },
  {
   "cell_type": "code",
   "execution_count": null,
   "metadata": {
    "collapsed": true
   },
   "outputs": [],
   "source": [
    "reporter = Report(trainer.get_best_results(), dataset, [Accuracy()])\n",
    "reporter.print_all_metric_results()"
   ]
  }
 ],
 "metadata": {
  "kernelspec": {
   "display_name": "Python 3",
   "language": "python",
   "name": "python3"
  },
  "language_info": {
   "codemirror_mode": {
    "name": "ipython",
    "version": 3
   },
   "file_extension": ".py",
   "mimetype": "text/x-python",
   "name": "python",
   "nbconvert_exporter": "python",
   "pygments_lexer": "ipython3",
   "version": "3.6.4"
  }
 },
 "nbformat": 4,
 "nbformat_minor": 2
}
